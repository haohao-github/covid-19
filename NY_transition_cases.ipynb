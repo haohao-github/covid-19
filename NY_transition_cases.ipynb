{
 "cells": [
  {
   "cell_type": "code",
   "execution_count": 1,
   "metadata": {},
   "outputs": [],
   "source": [
    "import pandas as pd"
   ]
  },
  {
   "cell_type": "code",
   "execution_count": 53,
   "metadata": {},
   "outputs": [],
   "source": [
    "NY_transition = pd.read_csv(\"NY_transition.csv\")\n",
    "covid = pd.read_csv(\"covid_data.csv\")\n",
    "statelatlong = pd.read_csv(\"statelatlong.csv\")"
   ]
  },
  {
   "cell_type": "code",
   "execution_count": 46,
   "metadata": {},
   "outputs": [
    {
     "data": {
      "text/html": [
       "<div>\n",
       "<style scoped>\n",
       "    .dataframe tbody tr th:only-of-type {\n",
       "        vertical-align: middle;\n",
       "    }\n",
       "\n",
       "    .dataframe tbody tr th {\n",
       "        vertical-align: top;\n",
       "    }\n",
       "\n",
       "    .dataframe thead th {\n",
       "        text-align: right;\n",
       "    }\n",
       "</style>\n",
       "<table border=\"1\" class=\"dataframe\">\n",
       "  <thead>\n",
       "    <tr style=\"text-align: right;\">\n",
       "      <th></th>\n",
       "      <th>STATE_PRE</th>\n",
       "      <th>STATE</th>\n",
       "      <th>LEX</th>\n",
       "      <th>DATE</th>\n",
       "    </tr>\n",
       "  </thead>\n",
       "  <tbody>\n",
       "    <tr>\n",
       "      <td>0</td>\n",
       "      <td>NY</td>\n",
       "      <td>AK</td>\n",
       "      <td>0.002209</td>\n",
       "      <td>1/20/20</td>\n",
       "    </tr>\n",
       "    <tr>\n",
       "      <td>1</td>\n",
       "      <td>NY</td>\n",
       "      <td>AL</td>\n",
       "      <td>0.007910</td>\n",
       "      <td>1/20/20</td>\n",
       "    </tr>\n",
       "    <tr>\n",
       "      <td>2</td>\n",
       "      <td>NY</td>\n",
       "      <td>AR</td>\n",
       "      <td>0.007082</td>\n",
       "      <td>1/20/20</td>\n",
       "    </tr>\n",
       "    <tr>\n",
       "      <td>3</td>\n",
       "      <td>NY</td>\n",
       "      <td>AZ</td>\n",
       "      <td>0.004416</td>\n",
       "      <td>1/20/20</td>\n",
       "    </tr>\n",
       "    <tr>\n",
       "      <td>4</td>\n",
       "      <td>NY</td>\n",
       "      <td>CA</td>\n",
       "      <td>0.005377</td>\n",
       "      <td>1/20/20</td>\n",
       "    </tr>\n",
       "  </tbody>\n",
       "</table>\n",
       "</div>"
      ],
      "text/plain": [
       "  STATE_PRE STATE       LEX     DATE\n",
       "0        NY    AK  0.002209  1/20/20\n",
       "1        NY    AL  0.007910  1/20/20\n",
       "2        NY    AR  0.007082  1/20/20\n",
       "3        NY    AZ  0.004416  1/20/20\n",
       "4        NY    CA  0.005377  1/20/20"
      ]
     },
     "execution_count": 46,
     "metadata": {},
     "output_type": "execute_result"
    }
   ],
   "source": [
    "NY_transition.head()"
   ]
  },
  {
   "cell_type": "code",
   "execution_count": 47,
   "metadata": {},
   "outputs": [
    {
     "data": {
      "text/html": [
       "<div>\n",
       "<style scoped>\n",
       "    .dataframe tbody tr th:only-of-type {\n",
       "        vertical-align: middle;\n",
       "    }\n",
       "\n",
       "    .dataframe tbody tr th {\n",
       "        vertical-align: top;\n",
       "    }\n",
       "\n",
       "    .dataframe thead th {\n",
       "        text-align: right;\n",
       "    }\n",
       "</style>\n",
       "<table border=\"1\" class=\"dataframe\">\n",
       "  <thead>\n",
       "    <tr style=\"text-align: right;\">\n",
       "      <th></th>\n",
       "      <th>state</th>\n",
       "      <th>date</th>\n",
       "      <th>Population</th>\n",
       "      <th>deaths</th>\n",
       "      <th>confirmed</th>\n",
       "    </tr>\n",
       "  </thead>\n",
       "  <tbody>\n",
       "    <tr>\n",
       "      <td>0</td>\n",
       "      <td>AK</td>\n",
       "      <td>1/22/20</td>\n",
       "      <td>731545</td>\n",
       "      <td>0</td>\n",
       "      <td>0</td>\n",
       "    </tr>\n",
       "    <tr>\n",
       "      <td>1</td>\n",
       "      <td>AK</td>\n",
       "      <td>1/23/20</td>\n",
       "      <td>731545</td>\n",
       "      <td>0</td>\n",
       "      <td>0</td>\n",
       "    </tr>\n",
       "    <tr>\n",
       "      <td>2</td>\n",
       "      <td>AK</td>\n",
       "      <td>1/24/20</td>\n",
       "      <td>731545</td>\n",
       "      <td>0</td>\n",
       "      <td>0</td>\n",
       "    </tr>\n",
       "    <tr>\n",
       "      <td>3</td>\n",
       "      <td>AK</td>\n",
       "      <td>1/25/20</td>\n",
       "      <td>731545</td>\n",
       "      <td>0</td>\n",
       "      <td>0</td>\n",
       "    </tr>\n",
       "    <tr>\n",
       "      <td>4</td>\n",
       "      <td>AK</td>\n",
       "      <td>1/26/20</td>\n",
       "      <td>731545</td>\n",
       "      <td>0</td>\n",
       "      <td>0</td>\n",
       "    </tr>\n",
       "  </tbody>\n",
       "</table>\n",
       "</div>"
      ],
      "text/plain": [
       "  state     date  Population  deaths  confirmed\n",
       "0    AK  1/22/20      731545       0          0\n",
       "1    AK  1/23/20      731545       0          0\n",
       "2    AK  1/24/20      731545       0          0\n",
       "3    AK  1/25/20      731545       0          0\n",
       "4    AK  1/26/20      731545       0          0"
      ]
     },
     "execution_count": 47,
     "metadata": {},
     "output_type": "execute_result"
    }
   ],
   "source": [
    "covid.head()"
   ]
  },
  {
   "cell_type": "code",
   "execution_count": 48,
   "metadata": {},
   "outputs": [],
   "source": [
    "NY_merge = pd.merge(NY_transition, covid, how=\"inner\", left_on=['STATE','DATE'], right_on=['state','date'])"
   ]
  },
  {
   "cell_type": "code",
   "execution_count": 54,
   "metadata": {},
   "outputs": [],
   "source": [
    "NY_merge = pd.merge(NY_merge, statelatlong, how='inner', left_on='state', right_on='State')"
   ]
  },
  {
   "cell_type": "code",
   "execution_count": 55,
   "metadata": {},
   "outputs": [
    {
     "data": {
      "text/html": [
       "<div>\n",
       "<style scoped>\n",
       "    .dataframe tbody tr th:only-of-type {\n",
       "        vertical-align: middle;\n",
       "    }\n",
       "\n",
       "    .dataframe tbody tr th {\n",
       "        vertical-align: top;\n",
       "    }\n",
       "\n",
       "    .dataframe thead th {\n",
       "        text-align: right;\n",
       "    }\n",
       "</style>\n",
       "<table border=\"1\" class=\"dataframe\">\n",
       "  <thead>\n",
       "    <tr style=\"text-align: right;\">\n",
       "      <th></th>\n",
       "      <th>STATE_PRE</th>\n",
       "      <th>STATE</th>\n",
       "      <th>LEX</th>\n",
       "      <th>DATE</th>\n",
       "      <th>state</th>\n",
       "      <th>date</th>\n",
       "      <th>Population</th>\n",
       "      <th>deaths</th>\n",
       "      <th>confirmed</th>\n",
       "      <th>State</th>\n",
       "      <th>Latitude</th>\n",
       "      <th>Longitude</th>\n",
       "      <th>City</th>\n",
       "    </tr>\n",
       "  </thead>\n",
       "  <tbody>\n",
       "    <tr>\n",
       "      <td>0</td>\n",
       "      <td>NY</td>\n",
       "      <td>AK</td>\n",
       "      <td>0.001962</td>\n",
       "      <td>1/22/20</td>\n",
       "      <td>AK</td>\n",
       "      <td>1/22/20</td>\n",
       "      <td>731545</td>\n",
       "      <td>0</td>\n",
       "      <td>0</td>\n",
       "      <td>AK</td>\n",
       "      <td>61.302501</td>\n",
       "      <td>-158.77502</td>\n",
       "      <td>Alaska</td>\n",
       "    </tr>\n",
       "    <tr>\n",
       "      <td>1</td>\n",
       "      <td>NY</td>\n",
       "      <td>AK</td>\n",
       "      <td>0.002272</td>\n",
       "      <td>1/23/20</td>\n",
       "      <td>AK</td>\n",
       "      <td>1/23/20</td>\n",
       "      <td>731545</td>\n",
       "      <td>0</td>\n",
       "      <td>0</td>\n",
       "      <td>AK</td>\n",
       "      <td>61.302501</td>\n",
       "      <td>-158.77502</td>\n",
       "      <td>Alaska</td>\n",
       "    </tr>\n",
       "    <tr>\n",
       "      <td>2</td>\n",
       "      <td>NY</td>\n",
       "      <td>AK</td>\n",
       "      <td>0.002083</td>\n",
       "      <td>1/24/20</td>\n",
       "      <td>AK</td>\n",
       "      <td>1/24/20</td>\n",
       "      <td>731545</td>\n",
       "      <td>0</td>\n",
       "      <td>0</td>\n",
       "      <td>AK</td>\n",
       "      <td>61.302501</td>\n",
       "      <td>-158.77502</td>\n",
       "      <td>Alaska</td>\n",
       "    </tr>\n",
       "    <tr>\n",
       "      <td>3</td>\n",
       "      <td>NY</td>\n",
       "      <td>AK</td>\n",
       "      <td>0.001569</td>\n",
       "      <td>1/25/20</td>\n",
       "      <td>AK</td>\n",
       "      <td>1/25/20</td>\n",
       "      <td>731545</td>\n",
       "      <td>0</td>\n",
       "      <td>0</td>\n",
       "      <td>AK</td>\n",
       "      <td>61.302501</td>\n",
       "      <td>-158.77502</td>\n",
       "      <td>Alaska</td>\n",
       "    </tr>\n",
       "    <tr>\n",
       "      <td>4</td>\n",
       "      <td>NY</td>\n",
       "      <td>AK</td>\n",
       "      <td>0.001417</td>\n",
       "      <td>1/26/20</td>\n",
       "      <td>AK</td>\n",
       "      <td>1/26/20</td>\n",
       "      <td>731545</td>\n",
       "      <td>0</td>\n",
       "      <td>0</td>\n",
       "      <td>AK</td>\n",
       "      <td>61.302501</td>\n",
       "      <td>-158.77502</td>\n",
       "      <td>Alaska</td>\n",
       "    </tr>\n",
       "  </tbody>\n",
       "</table>\n",
       "</div>"
      ],
      "text/plain": [
       "  STATE_PRE STATE       LEX     DATE state     date  Population  deaths  \\\n",
       "0        NY    AK  0.001962  1/22/20    AK  1/22/20      731545       0   \n",
       "1        NY    AK  0.002272  1/23/20    AK  1/23/20      731545       0   \n",
       "2        NY    AK  0.002083  1/24/20    AK  1/24/20      731545       0   \n",
       "3        NY    AK  0.001569  1/25/20    AK  1/25/20      731545       0   \n",
       "4        NY    AK  0.001417  1/26/20    AK  1/26/20      731545       0   \n",
       "\n",
       "   confirmed State   Latitude  Longitude    City  \n",
       "0          0    AK  61.302501 -158.77502  Alaska  \n",
       "1          0    AK  61.302501 -158.77502  Alaska  \n",
       "2          0    AK  61.302501 -158.77502  Alaska  \n",
       "3          0    AK  61.302501 -158.77502  Alaska  \n",
       "4          0    AK  61.302501 -158.77502  Alaska  "
      ]
     },
     "execution_count": 55,
     "metadata": {},
     "output_type": "execute_result"
    }
   ],
   "source": [
    "NY_merge.head()"
   ]
  },
  {
   "cell_type": "code",
   "execution_count": 59,
   "metadata": {},
   "outputs": [],
   "source": [
    "NY_merge = NY_merge.drop(['state','State','City'],axis=1)"
   ]
  },
  {
   "cell_type": "code",
   "execution_count": 60,
   "metadata": {},
   "outputs": [
    {
     "data": {
      "text/plain": [
       "3366"
      ]
     },
     "execution_count": 60,
     "metadata": {},
     "output_type": "execute_result"
    }
   ],
   "source": [
    "len(NY_merge)"
   ]
  },
  {
   "cell_type": "code",
   "execution_count": 61,
   "metadata": {},
   "outputs": [],
   "source": [
    "NY_merge.to_csv(\"NY_merge.csv\")"
   ]
  },
  {
   "cell_type": "code",
   "execution_count": null,
   "metadata": {},
   "outputs": [],
   "source": []
  }
 ],
 "metadata": {
  "kernelspec": {
   "display_name": "Python 3",
   "language": "python",
   "name": "python3"
  },
  "language_info": {
   "codemirror_mode": {
    "name": "ipython",
    "version": 3
   },
   "file_extension": ".py",
   "mimetype": "text/x-python",
   "name": "python",
   "nbconvert_exporter": "python",
   "pygments_lexer": "ipython3",
   "version": "3.7.4"
  }
 },
 "nbformat": 4,
 "nbformat_minor": 2
}
